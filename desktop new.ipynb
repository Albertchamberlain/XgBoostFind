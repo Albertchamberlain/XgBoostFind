{
 "cells": [
  {
   "cell_type": "code",
   "execution_count": null,
   "metadata": {},
   "outputs": [],
   "source": [
    "\n",
    "想想高风险用户会干什么？\n",
    "\n",
    "\n",
    "省际长途会多一点\n",
    "\n",
    "通话的opp_head 分类， 分 in out 统计；\n",
    "短信的opp_head 分类， 分 in out 统计；\n",
    "按照运营商来分类常见的opp_head, 再根据分类结果进行统计。\n",
    "对通话时间量的相关统计\n",
    "\n",
    "固话拨打频率高，号码平均长度短\n",
    "\n",
    "数据预处理 文本大量格式不工整，数据缺失\n",
    "\n",
    "uid_test 先不动\n",
    "\n",
    "数据集字段行删除，数据集尾部空行删除\n",
    "\n",
    "测试集与训练集合并学习\n",
    "\n",
    "\n",
    "\n",
    "把不同表中的数据根据vid关联起来\n",
    "\n",
    "DtypeWarning: Columns (xxx) have mixed types\n",
    "#low_memory : boolean, default True\n",
    "#Internally process the file in chunks, resulting in lower memory use while parsing, but possibly mixed type inference. \n",
    "#To ensure no mixed types either set False, or specify the type with the dtype parameter.\n",
    "#Note that the entire file is read into a single DataFrame regardless, use the chunksize or iterator parameter to return the data in chunks.\n",
    "#(Only valid with C parser)\n",
    "low_memory=False 参数设置后，pandas会一次性读取csv中的所有数据，\n",
    "然后对字段的数据类型进行唯一的一次猜测。这样就不会导致同一字段的Mixed types问题了。\n",
    "但是这种方式真的非常不好，一旦csv文件过大，就会内存溢出。\n",
    "\n",
    "\n",
    "\n",
    "\n",
    "# 数据集绝对地址  D:\\python\\new_data\\test    D:\\python\\new_data\\train\n",
    "\n",
    "\n",
    "# import pandas as pd\n",
    "\n",
    "\n",
    "# df = pd.read_csv('D:\\\\python\\\\new_data\\\\train\\\\voice_train.txt', sep='\\\\s+', skiprows=[0], header=None)\n",
    "\n",
    "# df.columns =['vid','opp_num','opp_head','opp_len','start_time','end_time','call_type','in_out']\n",
    "# df.to_csv('D:\\\\python\\\\new_data\\\\train\\\\voice_train.txt', sep='\\t', index=None)\n",
    "# print(df.head())\n"
   ]
  },
  {
   "cell_type": "code",
   "execution_count": 25,
   "metadata": {},
   "outputs": [],
   "source": [
    "import pandas as pd \n",
    "import numpy as np"
   ]
  },
  {
   "cell_type": "code",
   "execution_count": 26,
   "metadata": {
    "scrolled": true
   },
   "outputs": [
    {
     "name": "stdout",
     "output_type": "stream",
     "text": [
      "Requirement already satisfied: pandas in d:\\anaconda\\lib\\site-packages (1.0.1)\n",
      "Requirement already satisfied: numpy>=1.13.3 in d:\\anaconda\\lib\\site-packages (from pandas) (1.18.1)\n",
      "Requirement already satisfied: python-dateutil>=2.6.1 in d:\\anaconda\\lib\\site-packages (from pandas) (2.8.1)\n",
      "Requirement already satisfied: pytz>=2017.2 in d:\\anaconda\\lib\\site-packages (from pandas) (2019.3)\n",
      "Requirement already satisfied: six>=1.5 in d:\\anaconda\\lib\\site-packages (from python-dateutil>=2.6.1->pandas) (1.14.0)\n",
      "Note: you may need to restart the kernel to use updated packages.\n"
     ]
    }
   ],
   "source": [
    "pip install pandas"
   ]
  },
  {
   "cell_type": "code",
   "execution_count": 3,
   "metadata": {},
   "outputs": [],
   "source": [
    "# 删除所有文件的属性行\n",
    "#d=open('D:\\\\python\\\\new_data\\\\train\\\\uid_train.txt').readlines()\n",
    "#d[0]=''\n",
    "#with open('.txt','w') as f:\n",
    "   # f.writelines(d)\n",
    "    "
   ]
  },
  {
   "cell_type": "code",
   "execution_count": 27,
   "metadata": {},
   "outputs": [],
   "source": [
    "uid_train = pd.read_csv('D:\\\\python\\\\new_data\\\\train\\\\uid_train.txt',sep='\\t',header=None,names=('vid','label'))\n",
    "voice_train = pd.read_csv('D:\\\\python\\\\new_data\\\\train\\\\voice_train.txt',sep='\\t',header=None,names=('vid','opp_num','opp_head','opp_len','start_time','end_time','call_type','in_out'),dtype={'start_time':str,'end_time':str})\n",
    "sms_train = pd.read_csv('D:\\\\python\\\\new_data\\\\train\\\\sms_train.txt',sep='\\t',header=None,names=('vid','opp_num','opp_head','opp_len','start_time','in_out'),dtype={'start_time':str})\n",
    "wa_train = pd.read_csv('D:\\\\python\\\\new_data\\\\train\\\\wa_train.txt',sep='\\t',header=None,names=('vid','wa_name','visit_cnt','visit_dura','up_flow','down_flow','wa_type','date'),dtype={'date':str})\n",
    "#dtype  指定数据类型\n",
    "\n",
    "\n"
   ]
  },
  {
   "cell_type": "code",
   "execution_count": 5,
   "metadata": {
    "collapsed": true
   },
   "outputs": [
    {
     "name": "stdout",
     "output_type": "stream",
     "text": [
      "       vid  label\n",
      "0        1      0\n",
      "1        2      0\n",
      "2        3      0\n",
      "3        4      0\n",
      "4        5      0\n",
      "...    ...    ...\n",
      "3994  4995      1\n",
      "3995  4996      1\n",
      "3996  4997      1\n",
      "3997  4998      1\n",
      "3998  4999      1\n",
      "\n",
      "[3999 rows x 2 columns]\n"
     ]
    }
   ],
   "source": [
    "print(uid_train)"
   ]
  },
  {
   "cell_type": "code",
   "execution_count": 6,
   "metadata": {
    "collapsed": true
   },
   "outputs": [
    {
     "name": "stdout",
     "output_type": "stream",
     "text": [
      "         vid                           opp_num  opp_head  opp_len start_time  \\\n",
      "0        113  38D54642A237A11BB18455FC1E505292       132       11   26115956   \n",
      "1        113  38D54642A237A11BB18455FC1E505292       132       11   26115623   \n",
      "2        113  38D54642A237A11BB18455FC1E505292       132       11   26174233   \n",
      "3        113  38D54642A237A11BB18455FC1E505292       132       11   26070423   \n",
      "4       2016  5D2654B214731E788C5206A96BD6DA59       139       11   26112314   \n",
      "...      ...                               ...       ...      ...        ...   \n",
      "945521  1785  6363F66F966C7EDF7BCF680D415430C8       139       11   24190731   \n",
      "945522  1785  549A3BAA09905E189333962E35CE9BCE       151       11   24192820   \n",
      "945523  1785  28122434F6A5273481E3F898BCEA7D7D       133       11   24165731   \n",
      "945524  1785  970B788D8D4FF27AA094B634838FA281       189       11   24155025   \n",
      "945525  2714  3FB9A382A5587BBF9D4384AEFD318844       150       11   24211933   \n",
      "\n",
      "        end_time  call_type  in_out  \n",
      "0       26120033          1       1  \n",
      "1       26115707          1       1  \n",
      "2       26174321          1       1  \n",
      "3       26070512          1       0  \n",
      "4       26112403          1       1  \n",
      "...          ...        ...     ...  \n",
      "945521  24190847          1       0  \n",
      "945522  24192919          1       1  \n",
      "945523  24165801          1       1  \n",
      "945524  24155100          1       0  \n",
      "945525  24212009          2       0  \n",
      "\n",
      "[945526 rows x 8 columns]\n"
     ]
    }
   ],
   "source": [
    "print(voice_train)"
   ]
  },
  {
   "cell_type": "code",
   "execution_count": 28,
   "metadata": {},
   "outputs": [],
   "source": [
    "voice_test = pd.read_csv('D:\\\\python\\\\new_data\\\\test\\\\voice_test.txt',sep='\\t',header=None,names=('vid','opp_num','opp_head','opp_len','start_time','end_time','call_type','in_out'),dtype={'start_time':str,'end_time':str})\n",
    "sms_test = pd.read_csv('D:\\\\python\\\\new_data\\\\test\\\\sms_test.txt',sep='\\t',header=None,names=('vid','opp_num','opp_head','opp_len','start_time','in_out'),dtype={'start_time':str})\n",
    "wa_test = pd.read_csv('D:\\\\python\\\\new_data\\\\test\\\\wa_test.txt',sep='\\t',header=None,names=('vid','wa_name','visit_cnt','visit_dura','up_flow','down_flow','wa_type','date'),dtype={'date':str})\n",
    "uid_test = pd.DataFrame({'vid':pd.unique(wa_test['vid'])})\n",
    "uid_test.to_csv('D:\\\\python\\\\new_data\\\\test\\\\uid_test_b.txt',index=None)"
   ]
  },
  {
   "cell_type": "code",
   "execution_count": 7,
   "metadata": {
    "collapsed": true
   },
   "outputs": [
    {
     "name": "stdout",
     "output_type": "stream",
     "text": [
      "        vid                           opp_num  opp_head  opp_len start_time  \\\n",
      "0      7269  B378E065731B897E7295926B27CBA0D5       186       11   20174042   \n",
      "1      7269  B378E065731B897E7295926B27CBA0D5       186       11   20174130   \n",
      "2      7269  1B15607F3E6D167B44D46046D5993D87       189       11   20015746   \n",
      "3      7269  1B15607F3E6D167B44D46046D5993D87       189       11   20015640   \n",
      "4      7269  B378E065731B897E7295926B27CBA0D5       186       11   20045300   \n",
      "...     ...                               ...       ...      ...        ...   \n",
      "62400  8466  A7750EB1F3FB96632EE072A33943D3C6         0       13   44150120   \n",
      "62401  7898  A7750EB1F3FB96632EE072A33943D3C6         0       13   44110703   \n",
      "62402  7898  1809747EEE2B823CE19D0BAACE1DBF70       156       11   44080917   \n",
      "62403  7898  1809747EEE2B823CE19D0BAACE1DBF70       156       11   44153313   \n",
      "62404  7898  1809747EEE2B823CE19D0BAACE1DBF70       156       11   44083516   \n",
      "\n",
      "       in_out  \n",
      "0           1  \n",
      "1           1  \n",
      "2           0  \n",
      "3           0  \n",
      "4           1  \n",
      "...       ...  \n",
      "62400       1  \n",
      "62401       1  \n",
      "62402       1  \n",
      "62403       1  \n",
      "62404       1  \n",
      "\n",
      "[62405 rows x 6 columns]\n"
     ]
    }
   ],
   "source": [
    "print(sms_test)"
   ]
  },
  {
   "cell_type": "code",
   "execution_count": null,
   "metadata": {
    "scrolled": true
   },
   "outputs": [],
   "source": []
  },
  {
   "cell_type": "code",
   "execution_count": 29,
   "metadata": {},
   "outputs": [],
   "source": [
    "voice = pd.concat([voice_train,voice_test],axis=0)\n",
    "sms = pd.concat([sms_train,sms_test],axis=0)\n",
    "wa = pd.concat([wa_train,wa_test],axis=0)\n",
    "\n",
    "\n",
    "voice.drop_duplicates(inplace=True)\n",
    "sms.drop_duplicates(inplace=True)\n",
    "wa.drop_duplicates(inplace=True)  #删除完全重复的行"
   ]
  },
  {
   "cell_type": "code",
   "execution_count": 8,
   "metadata": {
    "collapsed": true
   },
   "outputs": [
    {
     "name": "stdout",
     "output_type": "stream",
     "text": [
      "          vid wa_name  visit_cnt  visit_dura   up_flow  down_flow  wa_type  \\\n",
      "0           1   155导航        5.0       207.0     313.0      457.0      0.0   \n",
      "1           1   155导航        7.0       396.0     547.0      659.0      0.0   \n",
      "2           1   155导航       10.0      3212.0     781.0      941.0      0.0   \n",
      "3           1   155导航       14.0       723.0    1094.0     1318.0      0.0   \n",
      "4           1   155导航       18.0       990.0    1406.0     1694.0      0.0   \n",
      "...       ...     ...        ...         ...       ...        ...      ...   \n",
      "1152665  7226    高德导航       32.0     41008.0   37415.0    26100.0      0.0   \n",
      "1152666  7226    高德导航       33.0     47825.0   25863.0    21536.0      0.0   \n",
      "1152667  7226    高德导航       33.0     51436.0   50090.0    33571.0      0.0   \n",
      "1152668  7226    高德导航       35.0     40773.0  108118.0    70997.0      0.0   \n",
      "1152669  7226    高德导航       37.0     33341.0   49837.0    35969.0      0.0   \n",
      "\n",
      "         date  \n",
      "0        14.0  \n",
      "1         4.0  \n",
      "2        12.0  \n",
      "3        10.0  \n",
      "4        11.0  \n",
      "...       ...  \n",
      "1152665  44.0  \n",
      "1152666  45.0  \n",
      "1152667  41.0  \n",
      "1152668  39.0  \n",
      "1152669  35.0  \n",
      "\n",
      "[4808289 rows x 8 columns]\n"
     ]
    }
   ],
   "source": [
    "print(wa)"
   ]
  },
  {
   "cell_type": "code",
   "execution_count": 9,
   "metadata": {},
   "outputs": [
    {
     "name": "stdout",
     "output_type": "stream",
     "text": [
      "18\n"
     ]
    }
   ],
   "source": [
    "x = voice['opp_len'].nunique()\n",
    "print(x)"
   ]
  },
  {
   "cell_type": "code",
   "execution_count": 10,
   "metadata": {
    "scrolled": true
   },
   "outputs": [
    {
     "name": "stdout",
     "output_type": "stream",
     "text": [
      "568\n"
     ]
    }
   ],
   "source": [
    "x = voice['opp_head'].nunique()\n",
    "print(x)"
   ]
  },
  {
   "cell_type": "code",
   "execution_count": null,
   "metadata": {},
   "outputs": [],
   "source": [
    "# 以上为导入数据环节"
   ]
  },
  {
   "cell_type": "code",
   "execution_count": 30,
   "metadata": {},
   "outputs": [],
   "source": [
    "\n",
    "\n",
    "voice_feature = pd.DataFrame()\n",
    "\n"
   ]
  },
  {
   "cell_type": "code",
   "execution_count": 31,
   "metadata": {},
   "outputs": [],
   "source": [
    "# 统计每个用户的通话总数\n",
    "\n",
    "\n",
    "x = voice.groupby('vid')['opp_num'].apply(lambda x: x.count())\n",
    "#分组，并对每一组执行count()计数\n",
    "voice_feature['vid'] = x.index\n",
    "voice_feature['voice_opp_count_all'] = x.values"
   ]
  },
  {
   "cell_type": "code",
   "execution_count": 13,
   "metadata": {
    "collapsed": true
   },
   "outputs": [
    {
     "name": "stdout",
     "output_type": "stream",
     "text": [
      "vid\n",
      "1        79\n",
      "2         2\n",
      "3        21\n",
      "4       254\n",
      "5       401\n",
      "       ... \n",
      "9985    255\n",
      "9986     63\n",
      "9990    443\n",
      "9994    175\n",
      "9996    147\n",
      "Name: opp_num, Length: 4987, dtype: int64\n",
      "<class 'pandas.core.series.Series'>\n"
     ]
    }
   ],
   "source": [
    "print(x)\n",
    "print(type(x))"
   ]
  },
  {
   "cell_type": "code",
   "execution_count": 14,
   "metadata": {
    "collapsed": true
   },
   "outputs": [
    {
     "name": "stdout",
     "output_type": "stream",
     "text": [
      "0        79\n",
      "1         2\n",
      "2        21\n",
      "3       254\n",
      "4       401\n",
      "       ... \n",
      "4982    255\n",
      "4983     63\n",
      "4984    443\n",
      "4985    175\n",
      "4986    147\n",
      "Name: voice_opp_count_all, Length: 4987, dtype: int64\n"
     ]
    }
   ],
   "source": [
    "print(voice_feature['voice_opp_count_all'])"
   ]
  },
  {
   "cell_type": "code",
   "execution_count": 15,
   "metadata": {
    "collapsed": true
   },
   "outputs": [
    {
     "name": "stdout",
     "output_type": "stream",
     "text": [
      "0          1\n",
      "1          2\n",
      "2          3\n",
      "3          4\n",
      "4          5\n",
      "        ... \n",
      "4982    9985\n",
      "4983    9986\n",
      "4984    9990\n",
      "4985    9994\n",
      "4986    9996\n",
      "Name: vid, Length: 4987, dtype: int64\n"
     ]
    }
   ],
   "source": [
    "print(voice_feature['vid'])"
   ]
  },
  {
   "cell_type": "code",
   "execution_count": 32,
   "metadata": {},
   "outputs": [],
   "source": [
    "# 统计每个用户的不同通话对象数\n",
    "\n",
    "\n",
    "x = voice.groupby('vid')['opp_num'].apply(lambda x: len(set(x)))\n",
    "# 分组 计算set集合长度 set集合无需不重复 刚好满足需求\n",
    "voice_feature['voice_opp_count_unique'] = x.values"
   ]
  },
  {
   "cell_type": "code",
   "execution_count": 33,
   "metadata": {},
   "outputs": [],
   "source": [
    "#统计每个用户的opp_head数\n",
    "x = voice.groupby('vid')['opp_head'].apply(lambda x: x.count())\n",
    "#分组，并对每一组执行count()计数\n",
    "voice_feature['vid'] = x.index\n",
    "voice_feature['voice_opp_head_count_all'] = x.values"
   ]
  },
  {
   "cell_type": "code",
   "execution_count": 34,
   "metadata": {},
   "outputs": [],
   "source": [
    "x = voice.groupby('vid')['opp_head'].apply(lambda x: len(set(x)))\n",
    "# 分组 计算set集合长度 set集合无需不重复 \n",
    "voice_feature['voice_opp_head_count_unique'] = x.values"
   ]
  },
  {
   "cell_type": "code",
   "execution_count": 19,
   "metadata": {
    "collapsed": true
   },
   "outputs": [
    {
     "name": "stdout",
     "output_type": "stream",
     "text": [
      "       vid  voice_opp_count_all  voice_opp_count_unique  \\\n",
      "0        1                   79                      22   \n",
      "1        2                    2                       2   \n",
      "2        3                   21                      15   \n",
      "3        4                  254                      77   \n",
      "4        5                  401                      55   \n",
      "...    ...                  ...                     ...   \n",
      "4982  9985                  255                      44   \n",
      "4983  9986                   63                      25   \n",
      "4984  9990                  443                     181   \n",
      "4985  9994                  175                      62   \n",
      "4986  9996                  147                      10   \n",
      "\n",
      "      voice_opp_head_count_all  voice_opp_head_count_unique  \n",
      "0                           79                           17  \n",
      "1                            2                            1  \n",
      "2                           21                           10  \n",
      "3                          254                           31  \n",
      "4                          401                           28  \n",
      "...                        ...                          ...  \n",
      "4982                       255                           23  \n",
      "4983                        63                           15  \n",
      "4984                       443                           20  \n",
      "4985                       175                           31  \n",
      "4986                       147                            9  \n",
      "\n",
      "[4987 rows x 5 columns]\n"
     ]
    }
   ],
   "source": [
    "print(voice_feature)"
   ]
  },
  {
   "cell_type": "code",
   "execution_count": 35,
   "metadata": {},
   "outputs": [],
   "source": [
    "# 分别统计每个用户主叫被叫(接入打出)通话总数\n",
    "\n",
    "x = voice.groupby(['vid','in_out'])['opp_num'].apply(lambda x: x.count())\n",
    "# 按照vid分组  组内计数"
   ]
  },
  {
   "cell_type": "code",
   "execution_count": 23,
   "metadata": {
    "collapsed": true
   },
   "outputs": [
    {
     "name": "stdout",
     "output_type": "stream",
     "text": [
      "in_out    0    1\n",
      "0        33   46\n",
      "1         2    0\n",
      "2         7   14\n",
      "3       133  121\n",
      "4       177  224\n",
      "...     ...  ...\n",
      "4982     92  163\n",
      "4983      8   55\n",
      "4984    275  168\n",
      "4985     90   85\n",
      "4986     57   90\n",
      "\n",
      "[4987 rows x 2 columns]\n"
     ]
    }
   ],
   "source": [
    "print(x)"
   ]
  },
  {
   "cell_type": "code",
   "execution_count": 36,
   "metadata": {},
   "outputs": [],
   "source": [
    "x = x.unstack(fill_value=0).reset_index(drop=True)\n",
    "\n",
    "# DataFrame.unstack(self，level = -1，fill_value = None)\n",
    "# 把行索引转换为列索引\n",
    "# 参数说明\n",
    "# level: 默认为-1，即行索引的最后一级\n",
    "# fill_value: 如果unstack 生成，则用此值替换NaN（本环节用0代替缺失值）\n",
    "\n",
    "#reset_index用来重置索引，因为有时候对dataframe做处理后索引可能是乱的。\n",
    "#drop=True就是把原来的索引index列去掉，重置index。\n",
    "#drop=False就是保留原来的索引，添加重置的index。\n",
    "#两者的区别就是有没有把原来的index去掉。"
   ]
  },
  {
   "cell_type": "code",
   "execution_count": 31,
   "metadata": {
    "collapsed": true
   },
   "outputs": [
    {
     "name": "stdout",
     "output_type": "stream",
     "text": [
      "        0    1\n",
      "0      33   46\n",
      "1       2    0\n",
      "2       7   14\n",
      "3     133  121\n",
      "4     177  224\n",
      "...   ...  ...\n",
      "4982   92  163\n",
      "4983    8   55\n",
      "4984  275  168\n",
      "4985   90   85\n",
      "4986   57   90\n",
      "\n",
      "[4987 rows x 2 columns]\n"
     ]
    }
   ],
   "source": [
    "print(x)"
   ]
  },
  {
   "cell_type": "code",
   "execution_count": 37,
   "metadata": {},
   "outputs": [],
   "source": [
    "x.columns = ['0', '1']\n",
    "voice_feature['voice_opp_count_out'] = x['0']  #列整体替换\n",
    "voice_feature['voice_opp_count_in'] = x['1']"
   ]
  },
  {
   "cell_type": "code",
   "execution_count": 32,
   "metadata": {
    "collapsed": true
   },
   "outputs": [
    {
     "name": "stdout",
     "output_type": "stream",
     "text": [
      "        0    1\n",
      "0      33   46\n",
      "1       2    0\n",
      "2       7   14\n",
      "3     133  121\n",
      "4     177  224\n",
      "...   ...  ...\n",
      "4982   92  163\n",
      "4983    8   55\n",
      "4984  275  168\n",
      "4985   90   85\n",
      "4986   57   90\n",
      "\n",
      "[4987 rows x 2 columns]\n"
     ]
    }
   ],
   "source": [
    "print(x)"
   ]
  },
  {
   "cell_type": "code",
   "execution_count": 33,
   "metadata": {
    "collapsed": true
   },
   "outputs": [
    {
     "name": "stdout",
     "output_type": "stream",
     "text": [
      "0        33\n",
      "1         2\n",
      "2         7\n",
      "3       133\n",
      "4       177\n",
      "       ... \n",
      "4982     92\n",
      "4983      8\n",
      "4984    275\n",
      "4985     90\n",
      "4986     57\n",
      "Name: voice_opp_count_out, Length: 4987, dtype: int64\n"
     ]
    }
   ],
   "source": [
    "print(voice_feature['voice_opp_count_out'])"
   ]
  },
  {
   "cell_type": "code",
   "execution_count": 38,
   "metadata": {},
   "outputs": [],
   "source": [
    "# 分别统计每个用户不同通话类型的通话总数\n",
    "# 统计方式同上\n",
    "\n",
    "x = voice.groupby(['vid','call_type'])['opp_num'].apply(lambda x: x.count())\n",
    "x = x.unstack(fill_value=0).reset_index(drop=True)\n",
    "x.columns = ['1', '2','3','4','5']\n",
    "voice_feature['voice_count_type1'] = x['1']\n",
    "voice_feature['voice_count_type2'] = x['2']\n",
    "voice_feature['voice_count_type3'] = x['3']\n",
    "voice_feature['voice_count_type4'] = x['4']\n",
    "voice_feature['voice_count_type5'] = x['5']\n"
   ]
  },
  {
   "cell_type": "code",
   "execution_count": 39,
   "metadata": {},
   "outputs": [],
   "source": [
    "#统计每个用户接入,打出的电话号码长度的均值,最大值,最小值和总长度，标准差，中位数（in，out）\n",
    "x = voice.groupby(['vid','in_out'])['opp_len'].apply(lambda x:x.mean())\n",
    "x = x.unstack(fill_value=0).reset_index(drop=True)\n",
    "x.columns = ['0','1']\n",
    "voice_feature['voice_opp_len_mean_out'] = x['0']\n",
    "voice_feature['voice_opp_len_mean_in'] = x['1']\n",
    "\n",
    "x = voice.groupby(['vid','in_out'])['opp_len'].apply(lambda x:x.max())\n",
    "x = x.unstack(fill_value=0).reset_index(drop=True)\n",
    "x.columns = ['0','1']\n",
    "voice_feature['voice_opp_len_max_out'] = x['0']\n",
    "voice_feature['voice_opp_len_max_in'] = x['1']\n",
    "\n",
    "x = voice.groupby(['vid','in_out'])['opp_len'].apply(lambda x:x.min())\n",
    "x = x.unstack(fill_value=0).reset_index(drop=True)\n",
    "x.columns = ['0','1']\n",
    "voice_feature['voice_opp_len_min_out'] = x['0']\n",
    "voice_feature['voice_opp_len_min_in'] = x['1']\n",
    "\n",
    "x = voice.groupby(['vid','in_out'])['opp_len'].apply(lambda x:x.sum())\n",
    "x = x.unstack(fill_value=0).reset_index(drop=True)\n",
    "x.columns = ['0','1']\n",
    "voice_feature['voice_opp_len_sum_out'] = x['0']\n",
    "voice_feature['voice_opp_len_sum_in'] = x['1']\n",
    "\n",
    "x = voice.groupby(['vid','in_out'])['opp_len'].apply(lambda x:x.std())\n",
    "x = x.unstack(fill_value=0).reset_index(drop=True)\n",
    "x.columns = ['0','1']\n",
    "voice_feature['voice_opp_len_std_out'] = x['0']\n",
    "voice_feature['voice_opp_len_std_in'] = x['1']\n",
    "\n",
    "x = voice.groupby(['vid','in_out'])['opp_len'].apply(lambda x:x.median())\n",
    "x = x.unstack(fill_value=0).reset_index(drop=True)\n",
    "x.columns = ['0','1']\n",
    "voice_feature['voice_opp_len_median_out'] = x['0']\n",
    "voice_feature['voice_opp_len_median_in'] = x['1']\n"
   ]
  },
  {
   "cell_type": "code",
   "execution_count": 40,
   "metadata": {},
   "outputs": [],
   "source": [
    "\n",
    "#通话时长是一个重要的特征\n",
    "\n",
    "#时间差是两个时间点的距离，时间是单向的，因此没有正负\n",
    "def CaluTime(start_time,end_time):\n",
    "    if pd.isnull(start_time) and pd.isnull(end_time):\n",
    "        return np.nan\n",
    "    if(len(start_time)==6):\n",
    "        start_time = \"00\"+start_time\n",
    "    if(len(end_time) == 6):\n",
    "        end_time = \"00\"+end_time\n",
    "    if(len(start_time) == 7):\n",
    "        start_time = \"0\" + start_time\n",
    "    if(len(start_time) == 7):\n",
    "        end_time = \"0\"+end_time\n",
    "    end_day = int(str(end_time)[0:2])\n",
    "    start_day = int(str(start_time)[0:2])\n",
    "    day_minus = abs((end_day-start_day)*86400)\n",
    "    \n",
    "    end_hour = int(str(end_time)[2:4])\n",
    "    start_hour = int(str(start_time)[2:4])\n",
    "    hour_minus = abs((end_hour-start_hour)*3600)\n",
    "    \n",
    "    end_min = int(str(end_time)[4:6])\n",
    "    start_min = int(str(start_time)[4:6])\n",
    "    min_minus = abs((end_min-start_min)*60)\n",
    "    \n",
    "    end_sec = int(str(end_time)[6:8])\n",
    "    start_sec = int(str(start_time)[6:8])\n",
    "    sec_minus =abs((end_sec-start_sec))\n",
    "    return day_minus+hour_minus+min_minus +sec_minus"
   ]
  },
  {
   "cell_type": "code",
   "execution_count": 34,
   "metadata": {},
   "outputs": [],
   "source": []
  },
  {
   "cell_type": "code",
   "execution_count": 51,
   "metadata": {
    "collapsed": true
   },
   "outputs": [
    {
     "name": "stdout",
     "output_type": "stream",
     "text": [
      "         vid                           opp_num opp_head  opp_len start_time  \\\n",
      "0        113  38D54642A237A11BB18455FC1E505292      132       11   26115956   \n",
      "1        113  38D54642A237A11BB18455FC1E505292      132       11   26115623   \n",
      "2        113  38D54642A237A11BB18455FC1E505292      132       11   26174233   \n",
      "3        113  38D54642A237A11BB18455FC1E505292      132       11   26070423   \n",
      "4       2016  5D2654B214731E788C5206A96BD6DA59      139       11   26112314   \n",
      "...      ...                               ...      ...      ...        ...   \n",
      "205247  7311  F39F1F615A64A19E052C6B7EE897B3A6      152       11   24165304   \n",
      "205248  7311  CBC97A2178539D05C7FDA96230F38C6C      136       11   24200548   \n",
      "205249  7311  CBC97A2178539D05C7FDA96230F38C6C      136       11   24093130   \n",
      "205250  7311  CBC97A2178539D05C7FDA96230F38C6C      136       11   24130002   \n",
      "205251  7311  CBC97A2178539D05C7FDA96230F38C6C      136       11   24182419   \n",
      "\n",
      "        end_time  call_type  in_out  talk_time  \n",
      "0       26120033          1       1       7163  \n",
      "1       26115707          1       1         76  \n",
      "2       26174321          1       1         72  \n",
      "3       26070512          1       0         71  \n",
      "4       26112403          1       1         71  \n",
      "...          ...        ...     ...        ...  \n",
      "205247  24170023          3       0       6799  \n",
      "205248  24200910          1       0        278  \n",
      "205249  24093416          1       1        194  \n",
      "205250  24130219          1       1        137  \n",
      "205251  24182610          1       1        129  \n",
      "\n",
      "[1150642 rows x 9 columns]\n"
     ]
    }
   ],
   "source": [
    "print(voice)"
   ]
  },
  {
   "cell_type": "code",
   "execution_count": 41,
   "metadata": {
    "scrolled": true
   },
   "outputs": [],
   "source": [
    "#通话时长  'std','max','min','median','mean','sum',np.ptp\n",
    "voice['talk_time']=voice[['start_time','end_time']].apply(lambda x: CaluTime(x[0],x[1]),axis=1) #numpy.ptp() 是计算最大值与最小值差的函数\n",
    "talk_time=voice.groupby(['vid'])['talk_time'].agg(['std','max','min','median','mean','sum',np.ptp]).add_prefix('voice_talk_time_').reset_index()"
   ]
  },
  {
   "cell_type": "code",
   "execution_count": 53,
   "metadata": {
    "collapsed": true
   },
   "outputs": [
    {
     "name": "stdout",
     "output_type": "stream",
     "text": [
      "       vid  voice_talk_time_std  voice_talk_time_max  voice_talk_time_min  \\\n",
      "0        1         2.509596e+06              7328892                    5   \n",
      "1        2         4.313351e+01                   81                   20   \n",
      "2        3         1.629696e+06              7324526                    6   \n",
      "3        4         1.769870e+06              7316178                    1   \n",
      "4        5         1.926999e+06              7280889                    1   \n",
      "...    ...                  ...                  ...                  ...   \n",
      "4982  9985         1.888771e+06              7267190                    1   \n",
      "4983  9986         1.401168e+06              7225715                    7   \n",
      "4984  9990         1.261648e+06              7295466                    1   \n",
      "4985  9994         2.036089e+06              7345393                    1   \n",
      "4986  9996         1.293145e+06              7209001                    1   \n",
      "\n",
      "      voice_talk_time_median  voice_talk_time_mean  voice_talk_time_sum  \\\n",
      "0                       90.0          1.240695e+06             98014870   \n",
      "1                       50.5          5.050000e+01                  101   \n",
      "2                       64.0          4.379044e+05              9195993   \n",
      "3                      104.5          6.995585e+05            177687867   \n",
      "4                       69.0          7.832400e+05            314079224   \n",
      "...                      ...                   ...                  ...   \n",
      "4982                    99.0          9.476300e+05            241645649   \n",
      "4983                    71.0          6.150633e+05             38748989   \n",
      "4984                    78.0          3.250703e+05            144006149   \n",
      "4985                   127.0          1.052140e+06            184124416   \n",
      "4986                    67.0          3.911445e+05             57498240   \n",
      "\n",
      "      voice_talk_time_ptp  \n",
      "0                 7328887  \n",
      "1                      61  \n",
      "2                 7324520  \n",
      "3                 7316177  \n",
      "4                 7280888  \n",
      "...                   ...  \n",
      "4982              7267189  \n",
      "4983              7225708  \n",
      "4984              7295465  \n",
      "4985              7345392  \n",
      "4986              7209000  \n",
      "\n",
      "[4987 rows x 8 columns]\n"
     ]
    }
   ],
   "source": [
    "print(talk_time)"
   ]
  },
  {
   "cell_type": "code",
   "execution_count": null,
   "metadata": {},
   "outputs": [],
   "source": []
  },
  {
   "cell_type": "code",
   "execution_count": 42,
   "metadata": {},
   "outputs": [],
   "source": [
    "# sms数据挖掘环节\n",
    "\n",
    "\n",
    "sms_feature = pd.DataFrame()\n"
   ]
  },
  {
   "cell_type": "code",
   "execution_count": 43,
   "metadata": {},
   "outputs": [],
   "source": [
    "# 统计每个用户的短信总数\n",
    "x = sms.groupby('vid')['opp_num'].apply(lambda x: x.count())\n",
    "sms_feature['vid'] = x.index\n",
    "sms_feature['sms_opp_count_all'] = x.values\n"
   ]
  },
  {
   "cell_type": "code",
   "execution_count": 44,
   "metadata": {},
   "outputs": [],
   "source": [
    "# 统计每个用户的不同短信对象数\n",
    "x = sms.groupby('vid')['opp_num'].apply(lambda x: len(set(x)))  #set集合去重了\n",
    "sms_feature['sms_opp_count_unique'] = x.values\n"
   ]
  },
  {
   "cell_type": "code",
   "execution_count": 45,
   "metadata": {},
   "outputs": [],
   "source": [
    "#统计每个用户接入发出,短信接收对象的电话号码长度的均值,最大值,最小值和总长度，标准差，中位数（in，out）\n",
    "x = sms.groupby(['vid','in_out'])['opp_len'].apply(lambda x:x.mean())\n",
    "x = x.unstack(fill_value=0).reset_index(drop=True)\n",
    "x.columns = ['0','1']\n",
    "sms_feature['sms_opp_len_mean_out'] = x['0']\n",
    "sms_feature['sms_opp_len_mean_in'] = x['1']\n",
    "\n",
    "x = sms.groupby(['vid','in_out'])['opp_len'].apply(lambda x:x.max())\n",
    "x = x.unstack(fill_value=0).reset_index(drop=True)\n",
    "x.columns = ['0','1']\n",
    "sms_feature['sms_opp_len_max_out'] = x['0']\n",
    "sms_feature['sms_opp_len_max_in'] = x['1']\n",
    "\n",
    "x = sms.groupby(['vid','in_out'])['opp_len'].apply(lambda x:x.min())\n",
    "x = x.unstack(fill_value=0).reset_index(drop=True)\n",
    "x.columns = ['0','1']\n",
    "sms_feature['sms_opp_len_min_out'] = x['0']\n",
    "sms_feature['sms_opp_len_min_in'] = x['1']\n",
    "\n",
    "x = sms.groupby(['vid','in_out'])['opp_len'].apply(lambda x:x.sum())\n",
    "x = x.unstack(fill_value=0).reset_index(drop=True)\n",
    "x.columns = ['0','1']\n",
    "sms_feature['sms_opp_len_sum_out'] = x['0']\n",
    "sms_feature['sms_opp_len_sum_in'] = x['1']\n",
    "\n",
    "x = sms.groupby(['vid','in_out'])['opp_len'].apply(lambda x:x.std())\n",
    "x = x.unstack(fill_value=0).reset_index(drop=True)\n",
    "x.columns = ['0','1']\n",
    "sms_feature['sms_opp_len_std_out'] = x['0']\n",
    "sms_feature['sms_opp_len_std_in'] = x['1']\n",
    "\n",
    "x = sms.groupby(['vid','in_out'])['opp_len'].apply(lambda x:x.median())\n",
    "x = x.unstack(fill_value=0).reset_index(drop=True)\n",
    "x.columns = ['0','1']\n",
    "sms_feature['sms_opp_len_median_out'] = x['0']\n",
    "sms_feature['sms_opp_len_median_in'] = x['1']\n"
   ]
  },
  {
   "cell_type": "code",
   "execution_count": null,
   "metadata": {},
   "outputs": [],
   "source": []
  },
  {
   "cell_type": "code",
   "execution_count": 46,
   "metadata": {},
   "outputs": [],
   "source": [
    "# Web or app\n",
    "\n",
    "#统计每个用户访问网站或aopp的名称\n",
    "wa_feature = pd.DataFrame()\n",
    "x = wa.groupby('vid')['wa_name'].apply(lambda x: len(set(x)))\n",
    "wa_feature['vid'] = x.index\n",
    "wa_feature['wa_name_count_unique'] = x.values\n"
   ]
  },
  {
   "cell_type": "code",
   "execution_count": 47,
   "metadata": {},
   "outputs": [],
   "source": [
    "# 根据网站和软件的不同计算每种类别的数量\n",
    "x = wa.groupby(['vid','wa_type'])['wa_name'].apply(lambda x: x.count())\n",
    "x = x.unstack(fill_value=0).reset_index(drop=True)\n",
    "x.columns = ['0', '1']\n",
    "wa_feature['wa_count_type0'] = x['0']\n",
    "wa_feature['wa_count_type1'] = x['1']"
   ]
  },
  {
   "cell_type": "code",
   "execution_count": 60,
   "metadata": {
    "collapsed": true
   },
   "outputs": [
    {
     "name": "stdout",
     "output_type": "stream",
     "text": [
      "         0    1\n",
      "0      955  200\n",
      "1       29    0\n",
      "2      982  185\n",
      "3     1372  308\n",
      "4      557   84\n",
      "...    ...  ...\n",
      "4940  1446  276\n",
      "4941    18    9\n",
      "4942  1010  298\n",
      "4943   616  136\n",
      "4944  2258  459\n",
      "\n",
      "[4945 rows x 2 columns]\n"
     ]
    }
   ],
   "source": [
    "print(x)"
   ]
  },
  {
   "cell_type": "code",
   "execution_count": 61,
   "metadata": {
    "collapsed": true
   },
   "outputs": [
    {
     "name": "stdout",
     "output_type": "stream",
     "text": [
      "0       200.0\n",
      "1         0.0\n",
      "2       185.0\n",
      "3       308.0\n",
      "4        84.0\n",
      "        ...  \n",
      "4994      NaN\n",
      "4995      NaN\n",
      "4996      NaN\n",
      "4997      NaN\n",
      "4998      NaN\n",
      "Name: wa_count_type1, Length: 4999, dtype: float64\n"
     ]
    }
   ],
   "source": [
    "print(wa_feature['wa_count_type1'])"
   ]
  },
  {
   "cell_type": "code",
   "execution_count": 62,
   "metadata": {
    "collapsed": true
   },
   "outputs": [
    {
     "name": "stdout",
     "output_type": "stream",
     "text": [
      "0        955.0\n",
      "1         29.0\n",
      "2        982.0\n",
      "3       1372.0\n",
      "4        557.0\n",
      "         ...  \n",
      "4994       NaN\n",
      "4995       NaN\n",
      "4996       NaN\n",
      "4997       NaN\n",
      "4998       NaN\n",
      "Name: wa_count_type0, Length: 4999, dtype: float64\n"
     ]
    }
   ],
   "source": [
    "print(wa_feature['wa_count_type0'])"
   ]
  },
  {
   "cell_type": "code",
   "execution_count": 48,
   "metadata": {
    "scrolled": true
   },
   "outputs": [],
   "source": [
    "#访问的web网页或者app是风险判断的一个重要特征\n",
    "# Web app 分组聚合一气呵成\n",
    "visit_cnt = wa.groupby(['vid'])['visit_cnt'].agg(['std','max','min','median','mean','sum']).add_prefix('wa_visit_cnt_').reset_index()\n",
    "visit_dura = wa.groupby(['vid'])['visit_dura'].agg(['std','max','min','median','mean','sum']).add_prefix('wa_visit_dura_').reset_index()\n",
    "up_flow = wa.groupby(['vid'])['up_flow'].agg(['std','max','min','median','mean','sum']).add_prefix('wa_up_flow_').reset_index()\n",
    "down_flow = wa.groupby(['vid'])['down_flow'].agg(['std','max','min','median','mean','sum']).add_prefix('wa_down_flow_').reset_index()\n"
   ]
  },
  {
   "cell_type": "code",
   "execution_count": 51,
   "metadata": {},
   "outputs": [],
   "source": [
    "#feature1 = [voice_feature,sms_feature,wa_feature,talk_time,visit_cnt,visit_dura,up_flow,down_flow]\n",
    "\n",
    "feature1 = [voice_feature,talk_time]\n",
    "feature2 =[sms_feature]\n",
    "feature3 = [wa_feature,visit_cnt,visit_dura,up_flow,down_flow]\n",
    " \n",
    "train_feature = uid_train\n",
    "for fea in feature3:\n",
    "  train_feature=pd.merge(train_feature,fea,how='left',on='vid')\n",
    "\n",
    "test_feature = uid_test\n",
    "for fea in feature3:\n",
    "  test_feature=pd.merge(test_feature,fea,how='left',on='vid')\n",
    "\n",
    "\n",
    "train_feature.to_csv('D:\\\\python\\\\new_data\\\\train_feature3.txt',index=None)\n",
    "test_feature.to_csv('D:\\\\python\\\\new_data\\\\test_feature3.txt',index=None)\n"
   ]
  },
  {
   "cell_type": "code",
   "execution_count": 65,
   "metadata": {
    "collapsed": true
   },
   "outputs": [
    {
     "name": "stdout",
     "output_type": "stream",
     "text": [
      "       vid  wa_up_flow_std  wa_up_flow_max  wa_up_flow_min  wa_up_flow_median  \\\n",
      "0        1    7.491854e+05      10720264.0             0.0             6067.0   \n",
      "1        2    5.429254e+03         22319.0             0.0             2453.0   \n",
      "2        3    3.566241e+05       8915918.0             0.0             3633.0   \n",
      "3        4    9.327114e+05      27479806.0             0.0             5785.5   \n",
      "4        5    5.071817e+05      12441601.0             0.0             4101.0   \n",
      "...    ...             ...             ...             ...                ...   \n",
      "4994  9985    3.843960e+06     105597618.0             0.0             6284.0   \n",
      "4995  9986    1.027085e+04         39069.0            66.0             2224.0   \n",
      "4996  9990    4.097517e+05       4134477.0             0.0             4766.0   \n",
      "4997  9994    3.346012e+06      88641891.0             0.0             2868.0   \n",
      "4998  9996    1.500749e+06      49364260.0             0.0             6812.0   \n",
      "\n",
      "      wa_up_flow_mean  wa_up_flow_sum  \n",
      "0       172279.362771     198982664.0  \n",
      "1         4433.551724        128573.0  \n",
      "2        60843.138817      71003943.0  \n",
      "3       181739.734524     305322754.0  \n",
      "4        63241.511700      40537809.0  \n",
      "...               ...             ...  \n",
      "4994    392027.138211     675070732.0  \n",
      "4995      6072.037037        163945.0  \n",
      "4996    111090.121560     145305879.0  \n",
      "4997    230144.796543     173068887.0  \n",
      "4998    283603.358484     770550325.0  \n",
      "\n",
      "[4999 rows x 7 columns]\n"
     ]
    }
   ],
   "source": [
    "print(up_flow)"
   ]
  },
  {
   "cell_type": "code",
   "execution_count": 66,
   "metadata": {
    "collapsed": true
   },
   "outputs": [
    {
     "name": "stdout",
     "output_type": "stream",
     "text": [
      "       vid  wa_down_flow_std  wa_down_flow_max  wa_down_flow_min  \\\n",
      "0        1      4.243115e+06      5.877314e+07               0.0   \n",
      "1        2      3.908229e+03      1.543800e+04               0.0   \n",
      "2        3      1.445421e+07      4.570219e+08               0.0   \n",
      "3        4      1.564955e+07      5.133773e+08               0.0   \n",
      "4        5      1.617302e+06      2.885865e+07               0.0   \n",
      "...    ...               ...               ...               ...   \n",
      "4994  9985      1.977901e+07      4.559054e+08               0.0   \n",
      "4995  9986      3.897266e+04      2.038190e+05             119.0   \n",
      "4996  9990      2.078819e+06      6.105626e+07               0.0   \n",
      "4997  9994      2.416573e+06      5.390715e+07               0.0   \n",
      "4998  9996      6.898068e+07      1.497546e+09               0.0   \n",
      "\n",
      "      wa_down_flow_median  wa_down_flow_mean  wa_down_flow_sum  \n",
      "0                  9683.0       8.325406e+05      9.615844e+08  \n",
      "1                  1656.0       3.267207e+03      9.474900e+04  \n",
      "2                  5632.0       1.115881e+06      1.302233e+09  \n",
      "3                 14205.0       2.082341e+06      3.498333e+09  \n",
      "4                  6916.0       3.556163e+05      2.279500e+08  \n",
      "...                   ...                ...               ...  \n",
      "4994              12461.5       3.364802e+06      5.794189e+09  \n",
      "4995               1872.0       1.352830e+04      3.652640e+05  \n",
      "4996               7055.5       3.352224e+05      4.384709e+08  \n",
      "4997               5630.5       2.886637e+05      2.170751e+08  \n",
      "4998              14230.0       9.974146e+06      2.709976e+10  \n",
      "\n",
      "[4999 rows x 7 columns]\n"
     ]
    }
   ],
   "source": [
    "print(down_flow)"
   ]
  },
  {
   "cell_type": "code",
   "execution_count": null,
   "metadata": {},
   "outputs": [],
   "source": []
  },
  {
   "cell_type": "code",
   "execution_count": 68,
   "metadata": {
    "scrolled": false
   },
   "outputs": [
    {
     "name": "stdout",
     "output_type": "stream",
     "text": [
      "(3999, 103)\n"
     ]
    }
   ],
   "source": [
    "print (train_feature.shape)"
   ]
  },
  {
   "cell_type": "code",
   "execution_count": null,
   "metadata": {},
   "outputs": [],
   "source": [
    "\n",
    "\n",
    "\n",
    "\n",
    "\n",
    "# 模型训练环节\n",
    "\n",
    "\n",
    "\n"
   ]
  },
  {
   "cell_type": "code",
   "execution_count": 1,
   "metadata": {},
   "outputs": [],
   "source": [
    "import pandas as pd\n",
    "import numpy as np\n",
    "import xgboost as xgb\n",
    "from xgboost.sklearn import XGBClassifier\n",
    "from sklearn import metrics\n",
    "from sklearn.metrics import roc_auc_score"
   ]
  },
  {
   "cell_type": "code",
   "execution_count": 2,
   "metadata": {},
   "outputs": [],
   "source": [
    "train = pd.read_csv('D:\\\\python\\\\new_data\\\\train_feature.txt')\n",
    "test = pd.read_csv('D:\\\\python\\\\new_data\\\\test_feature.txt')"
   ]
  },
  {
   "cell_type": "code",
   "execution_count": 3,
   "metadata": {},
   "outputs": [],
   "source": [
    "xgb_params = {\n",
    "    'learning_rate' :0.1,\n",
    "    'n_estimators':800,\n",
    "    'booster':'gbtree',\n",
    "    'objective':'binary:logistic',\n",
    "    'max_depth':5,\n",
    "    'gamma':0.5,\n",
    "    'subsample':1,\n",
    "    'colsample_bytree':0.8,\n",
    "    'lambda':1,\n",
    "    'eta':0.03,\n",
    "    'eval_metric':'auc',\n",
    "    'seed':1550,\n",
    "    'silent':0,\n",
    "    'max_delta_step':5,\n",
    "    'min_child_weight':4.5,\n",
    "    'reg_alpha':0,\n",
    "    'reg_lambda':1,\n",
    "    'scale_pos_weight':5\n",
    "}\n",
    "\n",
    "# binary:logistic 二分类的逻辑回归，返回预测的概率(不是类别)。"
   ]
  },
  {
   "cell_type": "code",
   "execution_count": 5,
   "metadata": {
    "scrolled": true
   },
   "outputs": [
    {
     "name": "stdout",
     "output_type": "stream",
     "text": [
      "[22:30:18] WARNING: C:\\Users\\Administrator\\workspace\\xgboost-win64_release_1.1.0\\src\\learner.cc:480: \n",
      "Parameters: { n_estimators, silent } might not be used.\n",
      "\n",
      "  This may not be accurate due to some parameters are only used in language bindings but\n",
      "  passed down to XGBoost core.  Or some parameters are not used but slip through this\n",
      "  verification. Please open an issue if you find above cases.\n",
      "\n",
      "\n",
      "[22:30:20] WARNING: C:\\Users\\Administrator\\workspace\\xgboost-win64_release_1.1.0\\src\\learner.cc:480: \n",
      "Parameters: { n_estimators, silent } might not be used.\n",
      "\n",
      "  This may not be accurate due to some parameters are only used in language bindings but\n",
      "  passed down to XGBoost core.  Or some parameters are not used but slip through this\n",
      "  verification. Please open an issue if you find above cases.\n",
      "\n",
      "\n",
      "[22:30:21] WARNING: C:\\Users\\Administrator\\workspace\\xgboost-win64_release_1.1.0\\src\\learner.cc:480: \n",
      "Parameters: { n_estimators, silent } might not be used.\n",
      "\n",
      "  This may not be accurate due to some parameters are only used in language bindings but\n",
      "  passed down to XGBoost core.  Or some parameters are not used but slip through this\n",
      "  verification. Please open an issue if you find above cases.\n",
      "\n",
      "\n"
     ]
    },
    {
     "data": {
      "text/html": [
       "<div>\n",
       "<style scoped>\n",
       "    .dataframe tbody tr th:only-of-type {\n",
       "        vertical-align: middle;\n",
       "    }\n",
       "\n",
       "    .dataframe tbody tr th {\n",
       "        vertical-align: top;\n",
       "    }\n",
       "\n",
       "    .dataframe thead th {\n",
       "        text-align: right;\n",
       "    }\n",
       "</style>\n",
       "<table border=\"1\" class=\"dataframe\">\n",
       "  <thead>\n",
       "    <tr style=\"text-align: right;\">\n",
       "      <th></th>\n",
       "      <th>train-auc-mean</th>\n",
       "      <th>train-auc-std</th>\n",
       "      <th>test-auc-mean</th>\n",
       "      <th>test-auc-std</th>\n",
       "    </tr>\n",
       "  </thead>\n",
       "  <tbody>\n",
       "    <tr>\n",
       "      <th>0</th>\n",
       "      <td>0.933823</td>\n",
       "      <td>0.004378</td>\n",
       "      <td>0.887697</td>\n",
       "      <td>0.013127</td>\n",
       "    </tr>\n",
       "    <tr>\n",
       "      <th>1</th>\n",
       "      <td>0.947537</td>\n",
       "      <td>0.005168</td>\n",
       "      <td>0.896487</td>\n",
       "      <td>0.014623</td>\n",
       "    </tr>\n",
       "    <tr>\n",
       "      <th>2</th>\n",
       "      <td>0.956857</td>\n",
       "      <td>0.002399</td>\n",
       "      <td>0.904137</td>\n",
       "      <td>0.011103</td>\n",
       "    </tr>\n",
       "    <tr>\n",
       "      <th>3</th>\n",
       "      <td>0.960901</td>\n",
       "      <td>0.002239</td>\n",
       "      <td>0.905648</td>\n",
       "      <td>0.007540</td>\n",
       "    </tr>\n",
       "    <tr>\n",
       "      <th>4</th>\n",
       "      <td>0.963319</td>\n",
       "      <td>0.001338</td>\n",
       "      <td>0.911496</td>\n",
       "      <td>0.008398</td>\n",
       "    </tr>\n",
       "    <tr>\n",
       "      <th>5</th>\n",
       "      <td>0.965155</td>\n",
       "      <td>0.001354</td>\n",
       "      <td>0.911653</td>\n",
       "      <td>0.008084</td>\n",
       "    </tr>\n",
       "    <tr>\n",
       "      <th>6</th>\n",
       "      <td>0.966727</td>\n",
       "      <td>0.001257</td>\n",
       "      <td>0.912145</td>\n",
       "      <td>0.008371</td>\n",
       "    </tr>\n",
       "    <tr>\n",
       "      <th>7</th>\n",
       "      <td>0.968064</td>\n",
       "      <td>0.000335</td>\n",
       "      <td>0.914275</td>\n",
       "      <td>0.008165</td>\n",
       "    </tr>\n",
       "    <tr>\n",
       "      <th>8</th>\n",
       "      <td>0.968492</td>\n",
       "      <td>0.000234</td>\n",
       "      <td>0.914604</td>\n",
       "      <td>0.007542</td>\n",
       "    </tr>\n",
       "    <tr>\n",
       "      <th>9</th>\n",
       "      <td>0.969031</td>\n",
       "      <td>0.000481</td>\n",
       "      <td>0.914865</td>\n",
       "      <td>0.008416</td>\n",
       "    </tr>\n",
       "  </tbody>\n",
       "</table>\n",
       "</div>"
      ],
      "text/plain": [
       "   train-auc-mean  train-auc-std  test-auc-mean  test-auc-std\n",
       "0        0.933823       0.004378       0.887697      0.013127\n",
       "1        0.947537       0.005168       0.896487      0.014623\n",
       "2        0.956857       0.002399       0.904137      0.011103\n",
       "3        0.960901       0.002239       0.905648      0.007540\n",
       "4        0.963319       0.001338       0.911496      0.008398\n",
       "5        0.965155       0.001354       0.911653      0.008084\n",
       "6        0.966727       0.001257       0.912145      0.008371\n",
       "7        0.968064       0.000335       0.914275      0.008165\n",
       "8        0.968492       0.000234       0.914604      0.007542\n",
       "9        0.969031       0.000481       0.914865      0.008416"
      ]
     },
     "execution_count": 5,
     "metadata": {},
     "output_type": "execute_result"
    }
   ],
   "source": [
    "xgb.cv(xgb_params,dtrain = xgb.DMatrix(train.drop(['vid','label'],axis=1),label=train.label))"
   ]
  },
  {
   "cell_type": "code",
   "execution_count": 72,
   "metadata": {},
   "outputs": [
    {
     "name": "stdout",
     "output_type": "stream",
     "text": [
      "[14:44:58] WARNING: C:\\Users\\Administrator\\workspace\\xgboost-win64_release_1.1.0\\src\\learner.cc:480: \n",
      "Parameters: { n_estimators, silent } might not be used.\n",
      "\n",
      "  This may not be accurate due to some parameters are only used in language bindings but\n",
      "  passed down to XGBoost core.  Or some parameters are not used but slip through this\n",
      "  verification. Please open an issue if you find above cases.\n",
      "\n",
      "\n"
     ]
    }
   ],
   "source": [
    "clf_xgb=xgb.train(xgb_params,dtrain=xgb.DMatrix(train.drop(['vid','label'],axis=1),label=train.label))  #axis=0代表往跨行（down)，而axis=1代表跨列（across)\n",
    "\n",
    "dtest = xgb.DMatrix(test.drop(['vid'],axis=1))\n",
    "\n",
    "pre=clf_xgb.predict(dtest,ntree_limit=clf_xgb.best_ntree_limit)\n",
    "\n",
    "res =pd.DataFrame({'vid':test.vid,'label':pre}) \n",
    "res=res.sort_values(by='vid')   # 结果写入文件前排一下序\n",
    "res.to_csv('D:\\\\python\\\\new_data\\\\xgb.txt',index=False,header=True,sep='\\t',columns=['vid','label'])"
   ]
  },
  {
   "cell_type": "code",
   "execution_count": 80,
   "metadata": {
    "scrolled": true
   },
   "outputs": [
    {
     "name": "stdout",
     "output_type": "stream",
     "text": [
      "0\n"
     ]
    }
   ],
   "source": [
    "print(train.isnull().any().sum())\n",
    "\n",
    "# 统计每一列空值的个数：\n"
   ]
  },
  {
   "cell_type": "code",
   "execution_count": 81,
   "metadata": {},
   "outputs": [
    {
     "name": "stdout",
     "output_type": "stream",
     "text": [
      "0\n"
     ]
    }
   ],
   "source": [
    "print(np.isnan(train).any().sum())"
   ]
  },
  {
   "cell_type": "code",
   "execution_count": 76,
   "metadata": {
    "collapsed": true
   },
   "outputs": [
    {
     "name": "stdout",
     "output_type": "stream",
     "text": [
      "[0.3696216  0.41443694 0.24937287 0.6048614  0.3435131  0.44155824\n",
      " 0.2658635  0.41686502 0.21009299 0.18249232 0.18145837 0.50232136\n",
      " 0.18249232 0.44265953 0.23331021 0.29385474 0.30907658 0.40896514\n",
      " 0.24140523 0.7313773  0.6827084  0.3238004  0.25891843 0.42679617\n",
      " 0.27623588 0.37429845 0.5793074  0.24914333 0.36317626 0.67452914\n",
      " 0.23515134 0.397986   0.23515134 0.5057579  0.4490507  0.18249232\n",
      " 0.27155766 0.20803952 0.18359964 0.68305916 0.31712124 0.20686746\n",
      " 0.2696451  0.38329217 0.232415   0.19427504 0.24641363 0.2839817\n",
      " 0.24413894 0.5306978  0.79222065 0.58021414 0.18804988 0.53971475\n",
      " 0.7052167  0.3483582  0.27460137 0.32615185 0.19427504 0.5394684\n",
      " 0.18819414 0.29182503 0.4550561  0.29629904 0.5232328  0.3379633\n",
      " 0.33020565 0.3308131  0.4652245  0.26712334 0.18249232 0.58313745\n",
      " 0.2152832  0.19427504 0.26256803 0.35070598 0.59076995 0.66257155\n",
      " 0.2152832  0.18966506 0.20862368 0.58021414 0.18249232 0.18855423\n",
      " 0.45591015 0.7447127  0.36015543 0.24017495 0.284996   0.45194104\n",
      " 0.51855326 0.649279   0.18328805 0.695884   0.3546828  0.4720909\n",
      " 0.24589501 0.45653033 0.24641363 0.45843345 0.25719208 0.42302924\n",
      " 0.29472986 0.5896354  0.5047635  0.41054943 0.18855423 0.24542618\n",
      " 0.24985786 0.44016656 0.6392633  0.72029865 0.18855423 0.24292916\n",
      " 0.5819636  0.36589754 0.18855423 0.6095605  0.63604194 0.48252532\n",
      " 0.34025338 0.18328805 0.3696216  0.71501714 0.42802012 0.18966506\n",
      " 0.61376613 0.39397308 0.31573611 0.23515134 0.31474727 0.19133368\n",
      " 0.65606576 0.35070598 0.67200446 0.69737875 0.23208335 0.18249232\n",
      " 0.18804988 0.66199696 0.23758265 0.64828455 0.18819414 0.6423677\n",
      " 0.46023977 0.36766526 0.192457   0.2839817  0.3737157  0.22981746\n",
      " 0.3300173  0.38874316 0.7127904  0.44769853 0.42620546 0.62274474\n",
      " 0.18328805 0.481304   0.41067553 0.33390355 0.2609134  0.26647982\n",
      " 0.492821   0.35739774 0.18249232 0.36451104 0.18359964 0.36317626\n",
      " 0.27454445 0.4645344  0.6472995  0.18249232 0.67930263 0.35070598\n",
      " 0.3320356  0.18249232 0.6867915  0.7162559  0.20399152 0.7308748\n",
      " 0.18249232 0.26705596 0.254669   0.2475956  0.6677396  0.24063441\n",
      " 0.2609134  0.66359735 0.18249232 0.50465155 0.28108585 0.2942697\n",
      " 0.336539   0.7038328  0.30919114 0.3308131  0.31007683 0.18249232\n",
      " 0.2698964  0.23168303 0.4845898  0.2272481  0.19427504 0.24918714\n",
      " 0.2802949  0.7455054  0.18819414 0.45484498 0.3163558  0.3674481\n",
      " 0.47051892 0.30838633 0.23208335 0.24097888 0.18819414 0.20181867\n",
      " 0.23208335 0.31133652 0.18819414 0.57948774 0.6263825  0.5850927\n",
      " 0.31202418 0.29494795 0.18819414 0.53293425 0.35070598 0.37489003\n",
      " 0.18249232 0.3092727  0.18918312 0.32392117 0.25284308 0.3308131\n",
      " 0.2152832  0.21660681 0.2072788  0.5140494  0.22441506 0.66864747\n",
      " 0.5226228  0.39889854 0.19427504 0.26209378 0.7239795  0.30838633\n",
      " 0.6883336  0.21593241 0.5639218  0.2060647  0.38429204 0.68082416\n",
      " 0.36400667 0.29629904 0.3348633  0.29132953 0.18804988 0.2834992\n",
      " 0.3916325  0.27297977 0.24542618 0.21937107 0.27739134 0.6244212\n",
      " 0.72115195 0.27143347 0.3750933  0.19427504 0.37603107 0.6366481\n",
      " 0.3725599  0.71745604 0.71660924 0.32959083 0.6776514  0.5639218\n",
      " 0.18249232 0.74229306 0.24781263 0.23208335 0.39383194 0.57847357\n",
      " 0.18249232 0.2226946  0.29445308 0.53845793 0.37915286 0.21427417\n",
      " 0.7069206  0.20476405 0.29334036 0.19427504 0.72314465 0.21343003\n",
      " 0.19427504 0.20644255 0.30682504 0.18249232 0.6374474  0.5347311\n",
      " 0.56450063 0.69451886 0.21925457 0.44113967 0.23208335 0.21231529\n",
      " 0.32720304 0.2943498  0.48568186 0.71745604 0.26712334 0.71660924\n",
      " 0.4988935  0.3742788  0.69364357 0.35388345 0.2503747  0.36856937\n",
      " 0.70498866 0.54138446 0.48445743 0.19427504 0.18819414 0.35967228\n",
      " 0.21427417 0.20476405 0.5060813  0.27362806 0.18804988 0.49212965\n",
      " 0.37182537 0.2069372  0.25373587 0.40440568 0.46287027 0.32764077\n",
      " 0.21296297 0.2972031  0.18804988 0.19427504 0.65606576 0.2922226\n",
      " 0.5114211  0.18328805 0.5357325  0.3308131  0.23326379 0.23331021\n",
      " 0.455892   0.5863031  0.35485315 0.49709103 0.23208335 0.20815578\n",
      " 0.39236468 0.48836935 0.18249232 0.62138283 0.18249232 0.22650762\n",
      " 0.6453522  0.23401843 0.21937107 0.2060647  0.21937107 0.2069372\n",
      " 0.7447127  0.18886423 0.2283935  0.25251135 0.2503228  0.71660924\n",
      " 0.20390667 0.6945297  0.21231529 0.26482555 0.512895   0.2941414\n",
      " 0.5582593  0.62323713 0.35347855 0.18249232 0.47278973 0.50398564\n",
      " 0.20644255 0.3348633  0.6609278  0.27623588 0.7572749  0.18249232\n",
      " 0.18819414 0.48303106 0.5835611  0.18249232 0.41886503 0.5244385\n",
      " 0.31149    0.5076715  0.48833394 0.2983187  0.5951605  0.3742788\n",
      " 0.23047227 0.32668754 0.467337   0.18249232 0.6492423  0.39383194\n",
      " 0.19427504 0.6491801  0.45238122 0.19409963 0.44789025 0.18249232\n",
      " 0.6039556  0.33085495 0.5347311  0.67895496 0.5347311  0.2898448\n",
      " 0.19039108 0.68934524 0.58021414 0.5453688  0.18249232 0.308544\n",
      " 0.18249232 0.71660924 0.7245228  0.18249232 0.6478054  0.73087317\n",
      " 0.31742322 0.39860618 0.25730067 0.26482555 0.2076017  0.7089683\n",
      " 0.44882166 0.24542618 0.6741686  0.43039417 0.39093602 0.48404533\n",
      " 0.35070598 0.26995564 0.56926084 0.7332462  0.27778524 0.5481139\n",
      " 0.7572749  0.32668024 0.6650189  0.2823177  0.40578437 0.23208335\n",
      " 0.26374426 0.31740442 0.21296297 0.40034363 0.18249232 0.18328805\n",
      " 0.3125181  0.39550608 0.5387856  0.19133368 0.24219333 0.27340835\n",
      " 0.38659012 0.3410905  0.29472986 0.45278934 0.25419918 0.23208335\n",
      " 0.34231132 0.22650762 0.5330832  0.4576158  0.6472353  0.35070598\n",
      " 0.19039108 0.20862368 0.18966506 0.2060647  0.33390355 0.27051458\n",
      " 0.18249232 0.2182252  0.46765122 0.25728095 0.19009542 0.25350377\n",
      " 0.1912132  0.23208335 0.20937894 0.59704775 0.33761886 0.72768027\n",
      " 0.54917043 0.44155824 0.5982933  0.37824216 0.2923227  0.66531837\n",
      " 0.18249232 0.57060874 0.18966506 0.19427504 0.32668024 0.2470039\n",
      " 0.57131845 0.1949339  0.23145477 0.48168147 0.27751887 0.29559508\n",
      " 0.69451886 0.5351289  0.23231846 0.23769504 0.19427504 0.22691126\n",
      " 0.24446958 0.19133368 0.59304625 0.655756   0.41265267 0.6867915\n",
      " 0.25730067 0.6324028  0.18804988 0.71660924 0.21343003 0.25062883\n",
      " 0.22650762 0.24641363 0.25730067 0.66050667 0.4786183  0.62012315\n",
      " 0.464334   0.29342628 0.25865027 0.5699766  0.61337155 0.3448861\n",
      " 0.63985187 0.42305088 0.2152832  0.1912132  0.48833394 0.2674626\n",
      " 0.41903856 0.189277   0.24937287 0.18328805 0.2922226  0.19427504\n",
      " 0.32468107 0.5419229  0.19427504 0.28891858 0.22650762 0.18819414\n",
      " 0.35070598 0.19427504 0.6762929  0.22650762 0.43088666 0.22650762\n",
      " 0.25891575 0.18932806 0.42477664 0.6203738  0.37812793 0.5159378\n",
      " 0.18886423 0.22412673 0.19510987 0.26471755 0.57952803 0.53039414\n",
      " 0.4022477  0.7572749  0.6306527  0.63507146 0.18819414 0.27155766\n",
      " 0.41309315 0.3308131  0.5481139  0.3012405  0.67452914 0.33589146\n",
      " 0.5516258  0.53729475 0.44153497 0.43137953 0.7111624  0.37182537\n",
      " 0.7085951  0.18249232 0.35370553 0.26482555 0.72029865 0.19427504\n",
      " 0.57847357 0.24542618 0.71660924 0.68008083 0.71392095 0.7447127\n",
      " 0.7344405  0.6102883  0.3696216  0.49833024 0.53409046 0.41970536\n",
      " 0.3696216  0.22650762 0.45671368 0.7308748  0.6936913  0.3308131\n",
      " 0.18855423 0.6718396  0.2922226  0.18855423 0.6742     0.7447127\n",
      " 0.6916087  0.36055705 0.72919977 0.4908148  0.5481139  0.5347311\n",
      " 0.29444265 0.24641363 0.30284536 0.18249232 0.71745604 0.20644255\n",
      " 0.5412028  0.56015635 0.2898448  0.22528327 0.64362323 0.42870677\n",
      " 0.18804988 0.41527295 0.45356286 0.4742067  0.20476405 0.18819414\n",
      " 0.3008733  0.22650762 0.25280178 0.3269394  0.6017452  0.3308131\n",
      " 0.72604114 0.30961275 0.7447127  0.22311385 0.3229463  0.27336347\n",
      " 0.25422403 0.18249232 0.29532862 0.5137571  0.18328805 0.24192715\n",
      " 0.27389824 0.7572749  0.6987092  0.18966506 0.24641363 0.2503228\n",
      " 0.21652304 0.2922226  0.22993645 0.18249232 0.18966506 0.24192715\n",
      " 0.22351621 0.19427504 0.3308131  0.3308131  0.5204608  0.2902307\n",
      " 0.2503228  0.2507313  0.24781263 0.27052045 0.26400587 0.2095996\n",
      " 0.19427504 0.18328805 0.30131882 0.18328805 0.18249232 0.31291828\n",
      " 0.5553244  0.2082435  0.20644255 0.22899458 0.36317626 0.21231529\n",
      " 0.19427504 0.5140494  0.3257934  0.54693526 0.2148704  0.2590581\n",
      " 0.2834992  0.28451675 0.2115456  0.2555825  0.27340835 0.45223528\n",
      " 0.22381672 0.28684223 0.34189793 0.26482555 0.23500635 0.19409963\n",
      " 0.30272862 0.22212127 0.18249232 0.20476405 0.24542618 0.2839817\n",
      " 0.27155766 0.23214372 0.18886423 0.3348633  0.55978656 0.47425932\n",
      " 0.35853767 0.5025374  0.22292118 0.33353394 0.23321985 0.2513568\n",
      " 0.22586143 0.2559041  0.31149    0.18328805 0.18249232 0.18328805\n",
      " 0.3427926  0.25280178 0.27155766 0.24081045 0.2248948  0.18855423\n",
      " 0.34552735 0.30907658 0.3410905  0.40750018 0.29268613 0.20476405\n",
      " 0.19427504 0.24236272 0.18249232 0.2152832  0.19427504 0.20644255\n",
      " 0.25288078 0.7282044  0.27569705 0.2808428  0.33935338 0.26078963\n",
      " 0.33855328 0.3308131  0.47663087 0.7021598  0.2798768  0.19427504\n",
      " 0.18819414 0.22706449 0.26368243 0.28603894 0.20657733 0.2626647\n",
      " 0.19427504 0.33495748 0.19427504 0.28665727 0.18328805 0.19599606\n",
      " 0.2391456  0.19409963 0.18249232 0.23208335 0.3459908  0.2391456\n",
      " 0.27340835 0.28863648 0.5198836  0.6843813  0.29424584 0.7455054\n",
      " 0.6882356  0.36373082 0.7308748  0.45936412 0.2807843  0.4484066\n",
      " 0.4890944  0.42225376 0.7418535  0.6299397  0.7217667  0.38019994\n",
      " 0.5867526  0.5445658  0.4760409  0.2599885  0.5619399  0.455892\n",
      " 0.3471667  0.7064461  0.3851792  0.18819414 0.67592126 0.48470685\n",
      " 0.32979804 0.7455054  0.50398564 0.6916087  0.467025   0.22803652\n",
      " 0.4623876  0.43422118 0.24219333 0.75523686 0.64845544 0.46015948\n",
      " 0.61607873 0.72029865 0.21058907 0.7773856  0.48013294 0.7298077\n",
      " 0.417983   0.6712704  0.61081296 0.47038978 0.59835297 0.4785774\n",
      " 0.60083723 0.32110673 0.6441729  0.3134231  0.50734097 0.66873044\n",
      " 0.75233954 0.597898   0.34773514 0.65029854 0.54879636 0.66607505\n",
      " 0.61288095 0.4633628  0.24985786 0.49013433 0.48581734 0.5828339\n",
      " 0.57109416 0.6712534  0.48759106 0.7279096  0.44054908 0.6084259\n",
      " 0.76571256 0.43971747 0.4765402  0.38537312 0.757677   0.73453295\n",
      " 0.71660924 0.42514598 0.7093614  0.68216705 0.45236805 0.27913982\n",
      " 0.56761396 0.6365043  0.5462604  0.5358327  0.5718637  0.29448757\n",
      " 0.51838154 0.39093602 0.6158777  0.7447127  0.6418622  0.71745604\n",
      " 0.69704837 0.62445235 0.512895   0.7572749  0.7454463  0.5228206\n",
      " 0.5801867  0.29650676 0.6314178  0.70915663 0.6418622  0.34406582\n",
      " 0.66187066 0.54690653 0.49288285 0.6101636  0.74415857 0.33451465\n",
      " 0.6867915  0.504257   0.6282883  0.5558946  0.43719742 0.3458508\n",
      " 0.5604442  0.43566945 0.696781   0.5341373  0.71501714 0.55037004\n",
      " 0.27810195 0.45941976 0.63090986 0.6867915  0.74415857 0.48764172\n",
      " 0.65980065 0.5333106  0.7572749  0.6987489  0.4151365  0.5233299\n",
      " 0.45032382 0.5646955  0.6147245  0.740562   0.39629263 0.5561226\n",
      " 0.2644793  0.505006   0.29984954 0.7300531  0.717351   0.5650431\n",
      " 0.50398564 0.6867915  0.68763185 0.30399403 0.7599595  0.21353692\n",
      " 0.71660924 0.5620596  0.3308131  0.716467   0.59073865 0.5767533\n",
      " 0.64764166 0.3291505  0.72922426 0.22650762 0.5863941  0.650275\n",
      " 0.73293257 0.40958536 0.52600664 0.55622935 0.73293257 0.22650762\n",
      " 0.6987679  0.72768027 0.73293257 0.7053604  0.7607201  0.7607201\n",
      " 0.749731   0.7129229  0.7239692  0.71660924 0.5690159  0.7300531\n",
      " 0.7300531  0.7455054  0.73293257 0.7282693  0.7599595  0.51739687\n",
      " 0.5896354  0.72768027 0.69762045 0.5828761 ]\n"
     ]
    }
   ],
   "source": [
    "print(pre)"
   ]
  },
  {
   "cell_type": "code",
   "execution_count": 77,
   "metadata": {
    "collapsed": true
   },
   "outputs": [
    {
     "name": "stdout",
     "output_type": "stream",
     "text": [
      "      vid  voice_opp_count_all  voice_opp_count_unique  \\\n",
      "0    8107                142.0                    14.0   \n",
      "1    6724                 14.0                     5.0   \n",
      "2    6550                133.0                    34.0   \n",
      "3    8577                167.0                    29.0   \n",
      "4    8839                  1.0                     1.0   \n",
      "..    ...                  ...                     ...   \n",
      "995  6129                 56.0                    30.0   \n",
      "996  9391                  8.0                     8.0   \n",
      "997  7874                 31.0                    16.0   \n",
      "998  9317                173.0                    30.0   \n",
      "999  7226                 24.0                    16.0   \n",
      "\n",
      "     voice_opp_head_count_all  voice_opp_head_count_unique  \\\n",
      "0                       142.0                         16.0   \n",
      "1                        14.0                          7.0   \n",
      "2                       133.0                         26.0   \n",
      "3                       167.0                         25.0   \n",
      "4                         1.0                          1.0   \n",
      "..                        ...                          ...   \n",
      "995                      56.0                         20.0   \n",
      "996                       8.0                          6.0   \n",
      "997                      31.0                         16.0   \n",
      "998                     173.0                         24.0   \n",
      "999                      24.0                         13.0   \n",
      "\n",
      "     voice_opp_count_out  voice_opp_count_in  voice_count_type1  \\\n",
      "0                   59.0                83.0              140.0   \n",
      "1                    9.0                 5.0               11.0   \n",
      "2                   72.0                61.0              113.0   \n",
      "3                   71.0                96.0              106.0   \n",
      "4                    0.0                 1.0                0.0   \n",
      "..                   ...                 ...                ...   \n",
      "995                 31.0                25.0               21.0   \n",
      "996                  3.0                 5.0                4.0   \n",
      "997                 20.0                11.0               19.0   \n",
      "998                 95.0                78.0              135.0   \n",
      "999                 12.0                12.0               12.0   \n",
      "\n",
      "     voice_count_type2  voice_count_type3  ...  wa_up_flow_min  \\\n",
      "0                  0.0                2.0  ...            65.0   \n",
      "1                  0.0                3.0  ...            82.0   \n",
      "2                 10.0               10.0  ...             0.0   \n",
      "3                  0.0               61.0  ...             0.0   \n",
      "4                  1.0                0.0  ...            60.0   \n",
      "..                 ...                ...  ...             ...   \n",
      "995                9.0               26.0  ...             0.0   \n",
      "996                0.0                4.0  ...             0.0   \n",
      "997                8.0                4.0  ...            80.0   \n",
      "998                0.0               38.0  ...             0.0   \n",
      "999               10.0                2.0  ...             0.0   \n",
      "\n",
      "     wa_up_flow_median  wa_up_flow_mean  wa_up_flow_sum  wa_down_flow_std  \\\n",
      "0                227.5     2.758571e+02    3.862000e+03      3.950033e+02   \n",
      "1               1636.0     2.365733e+04    2.129160e+05      1.628159e+06   \n",
      "2               7114.5     7.513057e+04    8.129127e+07      1.298676e+06   \n",
      "3               2442.0     1.902129e+05    7.665581e+07      5.661257e+07   \n",
      "4               7201.0     1.302512e+05    7.294070e+06      8.543138e+06   \n",
      "..                 ...              ...             ...               ...   \n",
      "995            17830.0     2.946644e+06    2.430982e+09      1.347231e+08   \n",
      "996            15733.0     1.887154e+05    8.907365e+07      5.552831e+06   \n",
      "997            18629.0     8.194034e+05    5.817764e+07      5.570019e+07   \n",
      "998             7326.0     9.432924e+05    2.395020e+09      7.571949e+07   \n",
      "999            15449.0     1.791540e+06    1.873951e+09      3.262710e+08   \n",
      "\n",
      "     wa_down_flow_max  wa_down_flow_min  wa_down_flow_median  \\\n",
      "0        1.278000e+03               0.0                 79.5   \n",
      "1        4.669943e+06               0.0               2862.0   \n",
      "2        1.940999e+07               0.0              16092.0   \n",
      "3        1.135561e+09               0.0               1723.0   \n",
      "4        6.352146e+07               0.0              10622.5   \n",
      "..                ...               ...                  ...   \n",
      "995      3.419930e+09               0.0              39718.0   \n",
      "996      9.917240e+07               0.0              44021.0   \n",
      "997      4.600244e+08               0.0              29266.0   \n",
      "998      1.736030e+09               0.0              17430.0   \n",
      "999      5.879408e+09               0.0              29592.5   \n",
      "\n",
      "     wa_down_flow_mean  wa_down_flow_sum  \n",
      "0         3.542857e+02      4.960000e+03  \n",
      "1         8.842773e+05      7.958496e+06  \n",
      "2         3.403229e+05      3.682294e+08  \n",
      "3         3.151078e+06      1.269884e+09  \n",
      "4         1.418150e+06      7.941643e+07  \n",
      "..                 ...               ...  \n",
      "995       1.424910e+07      1.175550e+10  \n",
      "996       1.071139e+06      5.055775e+08  \n",
      "997       1.068285e+07      7.584827e+08  \n",
      "998       1.079890e+07      2.741840e+10  \n",
      "999       5.545580e+07      5.800676e+10  \n",
      "\n",
      "[1000 rows x 102 columns]\n"
     ]
    }
   ],
   "source": [
    "print(test)"
   ]
  },
  {
   "cell_type": "code",
   "execution_count": 79,
   "metadata": {
    "collapsed": true
   },
   "outputs": [
    {
     "name": "stdout",
     "output_type": "stream",
     "text": [
      "       vid  label  voice_opp_count_all  voice_opp_count_unique  \\\n",
      "0        1      0                 79.0                    22.0   \n",
      "1        2      0                  2.0                     2.0   \n",
      "2        3      0                 21.0                    15.0   \n",
      "3        4      0                254.0                    77.0   \n",
      "4        5      0                401.0                    55.0   \n",
      "...    ...    ...                  ...                     ...   \n",
      "3992  4993      1                 11.0                     7.0   \n",
      "3993  4994      1                 25.0                     6.0   \n",
      "3994  4995      1                 18.0                     6.0   \n",
      "3996  4997      1                 54.0                    12.0   \n",
      "3998  4999      1                 19.0                     5.0   \n",
      "\n",
      "      voice_opp_head_count_all  voice_opp_head_count_unique  \\\n",
      "0                         79.0                         17.0   \n",
      "1                          2.0                          1.0   \n",
      "2                         21.0                         10.0   \n",
      "3                        254.0                         31.0   \n",
      "4                        401.0                         28.0   \n",
      "...                        ...                          ...   \n",
      "3992                      11.0                          6.0   \n",
      "3993                      25.0                          6.0   \n",
      "3994                      18.0                          5.0   \n",
      "3996                      54.0                          8.0   \n",
      "3998                      19.0                          4.0   \n",
      "\n",
      "      voice_opp_count_out  voice_opp_count_in  voice_count_type1  \\\n",
      "0                    33.0                46.0               79.0   \n",
      "1                     2.0                 0.0                2.0   \n",
      "2                     7.0                14.0               21.0   \n",
      "3                   133.0               121.0              218.0   \n",
      "4                   177.0               224.0              398.0   \n",
      "...                   ...                 ...                ...   \n",
      "3992                  7.0                 4.0                0.0   \n",
      "3993                 14.0                11.0                0.0   \n",
      "3994                  5.0                13.0               13.0   \n",
      "3996                 30.0                24.0               38.0   \n",
      "3998                 12.0                 7.0               19.0   \n",
      "\n",
      "      voice_count_type2  ...  wa_up_flow_min  wa_up_flow_median  \\\n",
      "0                   0.0  ...             0.0             6067.0   \n",
      "1                   0.0  ...             0.0             2453.0   \n",
      "2                   0.0  ...             0.0             3633.0   \n",
      "3                   6.0  ...             0.0             5785.5   \n",
      "4                   0.0  ...             0.0             4101.0   \n",
      "...                 ...  ...             ...                ...   \n",
      "3992                0.0  ...             0.0             8605.0   \n",
      "3993                0.0  ...             0.0             4316.0   \n",
      "3994                0.0  ...             0.0             8460.0   \n",
      "3996                0.0  ...             0.0            14348.0   \n",
      "3998                0.0  ...             0.0             4407.0   \n",
      "\n",
      "      wa_up_flow_mean  wa_up_flow_sum  wa_down_flow_std  wa_down_flow_max  \\\n",
      "0       172279.362771     198982664.0      4.243115e+06      5.877314e+07   \n",
      "1         4433.551724        128573.0      3.908229e+03      1.543800e+04   \n",
      "2        60843.138817      71003943.0      1.445421e+07      4.570219e+08   \n",
      "3       181739.734524     305322754.0      1.564955e+07      5.133773e+08   \n",
      "4        63241.511700      40537809.0      1.617302e+06      2.885865e+07   \n",
      "...               ...             ...               ...               ...   \n",
      "3992    457352.817640     383719014.0      2.426294e+06      4.542751e+07   \n",
      "3993    706038.776961     288063821.0      5.448867e+06      8.576964e+07   \n",
      "3994    290965.131429     356432286.0      2.456824e+07      5.026472e+08   \n",
      "3996    544861.625000     453324872.0      9.766932e+07      1.303596e+09   \n",
      "3998     66883.693805      37789287.0      5.907777e+06      8.919610e+07   \n",
      "\n",
      "      wa_down_flow_min  wa_down_flow_median  wa_down_flow_mean  \\\n",
      "0                  0.0               9683.0       8.325406e+05   \n",
      "1                  0.0               1656.0       3.267207e+03   \n",
      "2                  0.0               5632.0       1.115881e+06   \n",
      "3                  0.0              14205.0       2.082341e+06   \n",
      "4                  0.0               6916.0       3.556163e+05   \n",
      "...                ...                  ...                ...   \n",
      "3992               0.0               9339.0       5.186728e+05   \n",
      "3993               0.0               6369.0       9.185812e+05   \n",
      "3994               0.0              16440.0       3.581854e+06   \n",
      "3996               0.0              36601.0       1.737689e+07   \n",
      "3998               0.0               5913.0       7.853431e+05   \n",
      "\n",
      "      wa_down_flow_sum  \n",
      "0         9.615844e+08  \n",
      "1         9.474900e+04  \n",
      "2         1.302233e+09  \n",
      "3         3.498333e+09  \n",
      "4         2.279500e+08  \n",
      "...                ...  \n",
      "3992      4.351665e+08  \n",
      "3993      3.747811e+08  \n",
      "3994      4.387771e+09  \n",
      "3996      1.445757e+10  \n",
      "3998      4.437189e+08  \n",
      "\n",
      "[2718 rows x 103 columns]\n"
     ]
    }
   ],
   "source": [
    "print(train)"
   ]
  },
  {
   "cell_type": "code",
   "execution_count": null,
   "metadata": {},
   "outputs": [],
   "source": []
  }
 ],
 "metadata": {
  "kernelspec": {
   "display_name": "Python 3",
   "language": "python",
   "name": "python3"
  },
  "language_info": {
   "codemirror_mode": {
    "name": "ipython",
    "version": 3
   },
   "file_extension": ".py",
   "mimetype": "text/x-python",
   "name": "python",
   "nbconvert_exporter": "python",
   "pygments_lexer": "ipython3",
   "version": "3.7.6"
  }
 },
 "nbformat": 4,
 "nbformat_minor": 4
}
